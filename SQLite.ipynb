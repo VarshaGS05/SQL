{
 "cells": [
  {
   "cell_type": "code",
   "execution_count": 8,
   "id": "0bf09562",
   "metadata": {},
   "outputs": [],
   "source": [
    "#create a table\n",
    "import sqlite3\n",
    "#create a connection\n",
    "conn = sqlite3.connect('customer.db')\n",
    "#create a cursor()\n",
    "c = conn.cursor()\n",
    "\n",
    "#create table\n",
    "c.execute(\"CREATE TABLE info (first_name text, last_name text, email text)\")\n",
    "\n",
    "#commit our code\n",
    "conn.commit()\n",
    "#close our connection\n",
    "conn.close()"
   ]
  },
  {
   "cell_type": "code",
   "execution_count": 13,
   "id": "6b28dedc",
   "metadata": {},
   "outputs": [
    {
     "name": "stdout",
     "output_type": "stream",
     "text": [
      "Command executed sucessfully.........\n"
     ]
    }
   ],
   "source": [
    "#multiple values (Insert a values)\n",
    "import sqlite3\n",
    "#create a connection\n",
    "conn = sqlite3.connect('customer.db')\n",
    "c = conn.cursor()\n",
    "many_customers = [\n",
    "                    ('varsha','gs', 'varsha@mail'),\n",
    "                    ('anu','gs','anu@mail'),\n",
    "                    ('dam','black','dam@mail'),\n",
    "                    ('bruice','kevin', 'bruice@mail'),\n",
    "                     ('antony','doss', 'doss@mail')\n",
    "                 ]\n",
    "c.executemany('INSERT INTO info VALUES (?,?,?)',many_customers)\n",
    "\n",
    "print(\"Command executed sucessfully.........\")\n",
    "conn.commit()\n",
    "conn.close()\n"
   ]
  },
  {
   "cell_type": "code",
   "execution_count": 19,
   "id": "f28fa595",
   "metadata": {},
   "outputs": [
    {
     "name": "stdout",
     "output_type": "stream",
     "text": [
      "[('varsha', 'gs', 'varsha@mail'), ('anu', 'gs', 'anu@mail'), ('dam', 'black', 'dam@mail'), ('varsha', 'gs', 'varsha@mail'), ('anu', 'gs', 'anu@mail'), ('dam', 'black', 'dam@mail'), ('bruice', 'kevin', 'bruice@mail'), ('antony', 'doss', 'doss@mail')]\n"
     ]
    }
   ],
   "source": [
    "\n",
    "#query - Formating a data \n",
    "import sqlite3\n",
    "#create a connection\n",
    "conn = sqlite3.connect('customer.db')\n",
    "c = conn.cursor()\n",
    "c.execute(\"SELECT * FROM info\")\n",
    "print(c.fetchall())\n",
    "conn.commit()\n",
    "conn.close()\n",
    "\n",
    "\n",
    "    "
   ]
  },
  {
   "cell_type": "code",
   "execution_count": 20,
   "id": "584d5790",
   "metadata": {},
   "outputs": [
    {
     "name": "stdout",
     "output_type": "stream",
     "text": [
      "[('varsha', 'gs', 'varsha@mail'), ('anu', 'gs', 'anu@mail'), ('dam', 'black', 'dam@mail'), ('varsha', 'gs', 'varsha@mail'), ('anu', 'gs', 'anu@mail'), ('dam', 'black', 'dam@mail'), ('bruice', 'kevin', 'bruice@mail'), ('antony', 'doss', 'doss@mail')]\n"
     ]
    }
   ],
   "source": [
    "#2nd way \n",
    "import sqlite3\n",
    "#create a connection\n",
    "conn = sqlite3.connect('customer.db')\n",
    "c = conn.cursor()\n",
    "c.execute(\"SELECT * FROM info\")\n",
    "item = c.fetchall()\n",
    "print(item)\n",
    "conn.commit()\n",
    "conn.close()"
   ]
  },
  {
   "cell_type": "code",
   "execution_count": 33,
   "id": "ac66f2d9",
   "metadata": {},
   "outputs": [
    {
     "name": "stdout",
     "output_type": "stream",
     "text": [
      "('varsha', 'gs', 'varsha@mail')\n",
      "('anu', 'gs', 'anu@mail')\n",
      "('dam', 'black', 'dam@mail')\n",
      "('varsha', 'gs', 'varsha@mail')\n",
      "('anu', 'gs', 'anu@mail')\n",
      "('dam', 'black', 'dam@mail')\n",
      "('bruice', 'kevin', 'bruice@mail')\n",
      "('antony', 'doss', 'doss@mail')\n"
     ]
    }
   ],
   "source": [
    "#3rd way\n",
    "import sqlite3\n",
    "conn = sqlite3.connect('customer.db')\n",
    "c = conn.cursor()\n",
    "c.execute(\"SELECT * FROM info\")\n",
    "item = c.fetchall()\n",
    "for item in item:\n",
    "    print(item)\n",
    "    #print(item[0])\n",
    "    #print(item[0] + \".\" + item[1] +  \"  -  \"  + item[2])\n",
    "conn.commit()\n",
    "conn.close()"
   ]
  },
  {
   "cell_type": "code",
   "execution_count": 12,
   "id": "4b8383fe",
   "metadata": {},
   "outputs": [
    {
     "name": "stdout",
     "output_type": "stream",
     "text": [
      "('varsha', 'gs', 'varsha@mail')\n"
     ]
    }
   ],
   "source": [
    "#format your results:\n",
    "import sqlite3\n",
    "#create a connection\n",
    "conn = sqlite3.connect('customer.db')\n",
    "c = conn.cursor()\n",
    "c.execute(\"SELECT * FROM info\")\n",
    "print(c.fetchone())\n",
    "conn.commit()\n",
    "conn.close()\n",
    "\n",
    "  "
   ]
  },
  {
   "cell_type": "code",
   "execution_count": 15,
   "id": "db718688",
   "metadata": {},
   "outputs": [
    {
     "name": "stdout",
     "output_type": "stream",
     "text": [
      "[('varsha', 'gs', 'varsha@mail'), ('anu', 'gs', 'anu@mail'), ('dam', 'black', 'dam@mail')]\n"
     ]
    }
   ],
   "source": [
    "#first 3 result:\n",
    "\n",
    "import sqlite3\n",
    "#create a connection\n",
    "conn = sqlite3.connect('customer.db')\n",
    "c = conn.cursor()\n",
    "c.execute(\"SELECT * FROM info\")\n",
    "print(c.fetchmany(3))\n",
    "conn.commit()\n",
    "conn.close()"
   ]
  },
  {
   "cell_type": "code",
   "execution_count": 43,
   "id": "9b586f4b",
   "metadata": {},
   "outputs": [
    {
     "name": "stdout",
     "output_type": "stream",
     "text": [
      "NAME\t\t EMAIL\n",
      "------\t\t------\n",
      "varsha.gs   \tvarsha@mail\n",
      "anu.gs   \tanu@mail\n",
      "dam.black   \tdam@mail\n",
      "varsha.gs   \tvarsha@mail\n",
      "anu.gs   \tanu@mail\n",
      "dam.black   \tdam@mail\n",
      "bruice.kevin   \tbruice@mail\n",
      "antony.doss   \tdoss@mail\n"
     ]
    }
   ],
   "source": [
    "import sqlite3\n",
    "conn = sqlite3.connect('customer.db')\n",
    "c = conn.cursor()\n",
    "c.execute(\"SELECT * FROM info\")\n",
    "item = c.fetchall()\n",
    "print(\"NAME\" + \"\\t\\t EMAIL\")\n",
    "print(\"------\" + \"\\t\\t------\")\n",
    "for item in item:\n",
    "    print(item[0] + \".\" + item[1]+     \"   \\t\"+ item[2])\n",
    "conn.commit()\n",
    "conn.close()\n",
    "\n",
    "            \n",
    "\n",
    "    \n",
    "   "
   ]
  },
  {
   "cell_type": "code",
   "execution_count": 46,
   "id": "620fca39",
   "metadata": {},
   "outputs": [
    {
     "name": "stdout",
     "output_type": "stream",
     "text": [
      "(1, 'varsha', 'gs', 'varsha@mail')\n",
      "(2, 'anu', 'gs', 'anu@mail')\n",
      "(3, 'dam', 'black', 'dam@mail')\n",
      "(4, 'varsha', 'gs', 'varsha@mail')\n",
      "(5, 'anu', 'gs', 'anu@mail')\n",
      "(6, 'dam', 'black', 'dam@mail')\n",
      "(7, 'bruice', 'kevin', 'bruice@mail')\n",
      "(8, 'antony', 'doss', 'doss@mail')\n"
     ]
    }
   ],
   "source": [
    "#primary ID\n",
    "import sqlite3\n",
    "#create a connection\n",
    "conn = sqlite3.connect('customer.db')\n",
    "c = conn.cursor()\n",
    "c.execute(\"SELECT rowid, * FROM info\")\n",
    "item = c.fetchall()\n",
    "for item in item:\n",
    "    print(item)\n",
    "conn.commit()\n",
    "conn.close()"
   ]
  },
  {
   "cell_type": "code",
   "execution_count": 64,
   "id": "c3f4041f",
   "metadata": {},
   "outputs": [
    {
     "name": "stdout",
     "output_type": "stream",
     "text": [
      "('varsha', 'gs', 'varsha@mail')\n",
      "('anu', 'gs', 'anu@mail')\n",
      "('dam', 'black', 'dam@mail')\n",
      "('varsha', 'gs', 'varsha@mail')\n",
      "('anu', 'gs', 'anu@mail')\n",
      "('dam', 'black', 'dam@mail')\n",
      "('bruice', 'kevin', 'bruice@mail')\n",
      "('antony', 'doss', 'doss@mail')\n"
     ]
    }
   ],
   "source": [
    "#where\n",
    "conn = sqlite3.connect('customer.db')\n",
    "c = conn.cursor()\n",
    "#c.execute(\"SELECT * FROM info Where last_name LIKE 'gs' \")\n",
    "#c.execute(\"SELECT * FROM info Where email LIKE 'anu%' \")\n",
    "c.execute(\"SELECT * FROM info Where email LIKE '%@mail' \")\n",
    "item = c.fetchall()\n",
    "for item in item:\n",
    "    print(item)\n",
    "conn.commit()\n",
    "conn.close()"
   ]
  },
  {
   "cell_type": "code",
   "execution_count": 65,
   "id": "615d2697",
   "metadata": {},
   "outputs": [
    {
     "name": "stdout",
     "output_type": "stream",
     "text": [
      "(1, 'varsha', 'gs', 'varsha@mail')\n",
      "(2, 'anu', 'gs', 'anu@mail')\n",
      "(3, 'dam', 'black', 'dam@mail')\n"
     ]
    }
   ],
   "source": [
    "import sqlite3\n",
    "#create a connection\n",
    "conn = sqlite3.connect('customer.db')\n",
    "c = conn.cursor()\n",
    "c.execute(\"SELECT rowid, * FROM info Where 3 >= rowid\")\n",
    "item = c.fetchall()\n",
    "for item in item:\n",
    "    print(item)\n",
    "conn.commit()\n",
    "conn.close()"
   ]
  },
  {
   "cell_type": "code",
   "execution_count": null,
   "id": "4983d29a",
   "metadata": {},
   "outputs": [],
   "source": []
  },
  {
   "cell_type": "code",
   "execution_count": null,
   "id": "c03337c2",
   "metadata": {},
   "outputs": [],
   "source": []
  }
 ],
 "metadata": {
  "kernelspec": {
   "display_name": "Python 3 (ipykernel)",
   "language": "python",
   "name": "python3"
  },
  "language_info": {
   "codemirror_mode": {
    "name": "ipython",
    "version": 3
   },
   "file_extension": ".py",
   "mimetype": "text/x-python",
   "name": "python",
   "nbconvert_exporter": "python",
   "pygments_lexer": "ipython3",
   "version": "3.9.12"
  }
 },
 "nbformat": 4,
 "nbformat_minor": 5
}
